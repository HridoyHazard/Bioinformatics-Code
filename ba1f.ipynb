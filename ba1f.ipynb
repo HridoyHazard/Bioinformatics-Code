{
  "nbformat": 4,
  "nbformat_minor": 0,
  "metadata": {
    "colab": {
      "provenance": [],
      "collapsed_sections": []
    },
    "kernelspec": {
      "name": "python3",
      "display_name": "Python 3"
    },
    "language_info": {
      "name": "python"
    }
  },
  "cells": [
    {
      "cell_type": "code",
      "execution_count": 1,
      "metadata": {
        "id": "BBxvkDzZvSFq"
      },
      "outputs": [],
      "source": [
        "def skew (s):\n",
        "  pos=[0]\n",
        "  for i in range(len(s)):\n",
        "    if(s[i]==\"G\"):\n",
        "      pos.append(pos[-1]+1)\n",
        "    elif(s[i]==\"C\"):\n",
        "      pos.append(pos[-1]-1)\n",
        "    else:\n",
        "     pos.append(pos[-1])\n",
        "\n",
        "  min_skew=min(pos)\n",
        "  for i in range(len(pos)):\n",
        "    if(pos[i]==min_skew):\n",
        "      print(i, end=\" \")\n",
        "  "
      ]
    },
    {
      "cell_type": "code",
      "source": [
        "s = input()\n",
        "\n",
        "skew(s)\n",
        "\n"
      ],
      "metadata": {
        "id": "GtY3GabXvToT",
        "colab": {
          "base_uri": "https://localhost:8080/"
        },
        "outputId": "b9dc7724-1a31-4b31-f8e8-e52addcce114"
      },
      "execution_count": 2,
      "outputs": [
        {
          "output_type": "stream",
          "name": "stdout",
          "text": [
            "CCTATCGGTGGATTAGCATGTCCCTGTACGTTTCGCCGCGAACTAGTTCACACGGCTTGATGGCAAATGGTTTTTCCGGCGACCGTAATCGTCCACCGAG\n",
            "53 97 "
          ]
        }
      ]
    }
  ]
}