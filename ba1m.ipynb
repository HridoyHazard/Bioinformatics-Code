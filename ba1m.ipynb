{
  "nbformat": 4,
  "nbformat_minor": 0,
  "metadata": {
    "colab": {
      "provenance": [],
      "collapsed_sections": []
    },
    "kernelspec": {
      "name": "python3",
      "display_name": "Python 3"
    },
    "language_info": {
      "name": "python"
    }
  },
  "cells": [
    {
      "cell_type": "code",
      "execution_count": 1,
      "metadata": {
        "id": "fq0v10kFB2EP"
      },
      "outputs": [],
      "source": [
        "def NumberToPattern(index, k):\n",
        "    bases = ['A', 'C', 'G', 'T']\n",
        "    pattern = ''\n",
        "    for i in range(k):\n",
        "        pattern += bases[index % 4]\n",
        "        index = index // 4\n",
        "    return pattern[::-1]"
      ]
    },
    {
      "cell_type": "code",
      "source": [
        "index = int(input())\n",
        "k = int(input())\n",
        "print(NumberToPattern(index, k))"
      ],
      "metadata": {
        "colab": {
          "base_uri": "https://localhost:8080/"
        },
        "id": "Pq3yqcMiB4cu",
        "outputId": "85564573-9cee-4baf-c189-ed27a4218e15"
      },
      "execution_count": 2,
      "outputs": [
        {
          "output_type": "stream",
          "name": "stdout",
          "text": [
            "45\n",
            "4\n",
            "AGTC\n"
          ]
        }
      ]
    }
  ]
}