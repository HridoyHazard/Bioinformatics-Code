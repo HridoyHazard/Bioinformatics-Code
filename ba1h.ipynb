{
  "nbformat": 4,
  "nbformat_minor": 0,
  "metadata": {
    "colab": {
      "provenance": [],
      "collapsed_sections": []
    },
    "kernelspec": {
      "name": "python3",
      "display_name": "Python 3"
    },
    "language_info": {
      "name": "python"
    }
  },
  "cells": [
    {
      "cell_type": "code",
      "execution_count": 4,
      "metadata": {
        "id": "ew0B1we0AO4n"
      },
      "outputs": [],
      "source": [
        "def HammingDistance(s1, s2):\n",
        "    d = 0\n",
        "    for i in range(len(s1)):\n",
        "        if s1[i] != s2[i]:\n",
        "            d += 1\n",
        "    return d"
      ]
    },
    {
      "cell_type": "code",
      "source": [
        "def ApproximatePattern(pattern, text, d):\n",
        "    positions = []\n",
        "    for i in range(len(text)-len(pattern)+1):\n",
        "        if HammingDistance(pattern, text[i:i+len(pattern)]) <= d:\n",
        "            print(i, end=\" \")\n"
      ],
      "metadata": {
        "id": "MS2gMld8AWJW"
      },
      "execution_count": 5,
      "outputs": []
    },
    {
      "cell_type": "code",
      "source": [
        "pattern = input()\n",
        "text = input()\n",
        "d = int(input())\n",
        "ApproximatePattern(pattern, text, d)"
      ],
      "metadata": {
        "colab": {
          "base_uri": "https://localhost:8080/"
        },
        "id": "-fPbmpC6AYLV",
        "outputId": "886c6c8a-e9e2-4383-faa2-cff5f5330efe"
      },
      "execution_count": 6,
      "outputs": [
        {
          "output_type": "stream",
          "name": "stdout",
          "text": [
            "ATTCTGGA\n",
            "CGCCCGAATCCAGAACGCATTCCCATATTTCGGGACCACTGGCCTCCACGGTACGGACGTCAATCAAATGCCTAGCGGCTTGTGGTTTCTCCTACGCTCC\n",
            "3\n",
            "6 7 26 27 78 "
          ]
        }
      ]
    }
  ]
}