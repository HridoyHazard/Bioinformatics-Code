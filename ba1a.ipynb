{
  "nbformat": 4,
  "nbformat_minor": 0,
  "metadata": {
    "colab": {
      "provenance": [],
      "collapsed_sections": []
    },
    "kernelspec": {
      "name": "python3",
      "display_name": "Python 3"
    },
    "language_info": {
      "name": "python"
    }
  },
  "cells": [
    {
      "cell_type": "markdown",
      "source": [
        "**BA1A** Compute the Number of Times a Pattern Appears in a Text"
      ],
      "metadata": {
        "id": "ZQpcnYqJJbaB"
      }
    },
    {
      "cell_type": "code",
      "source": [
        "def pattcount(txt,patt):\n",
        "  a = len(txt)\n",
        "  b = len(patt)\n",
        "  cnet=0;\n",
        "  for i in range(a):\n",
        "    if txt[i:i+b]==patt:\n",
        "          cnet+=1;\n",
        "  return cnet"
      ],
      "metadata": {
        "id": "1gLB3Q-rCHHf"
      },
      "execution_count": 1,
      "outputs": []
    },
    {
      "cell_type": "code",
      "source": [
        "txt = input()\n",
        "k = input()\n",
        "print(pattcount(txt,k))"
      ],
      "metadata": {
        "colab": {
          "base_uri": "https://localhost:8080/"
        },
        "id": "SArDT0z-HFdB",
        "outputId": "03993916-c64a-4d6c-8d41-57e49ea7d622"
      },
      "execution_count": 2,
      "outputs": [
        {
          "output_type": "stream",
          "name": "stdout",
          "text": [
            "GCGCG\n",
            "GCG\n",
            "2\n"
          ]
        }
      ]
    },
    {
      "cell_type": "code",
      "source": [],
      "metadata": {
        "id": "6Kiux5FEfImm"
      },
      "execution_count": null,
      "outputs": []
    }
  ]
}