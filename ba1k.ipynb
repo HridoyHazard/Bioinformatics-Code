{
  "nbformat": 4,
  "nbformat_minor": 0,
  "metadata": {
    "colab": {
      "provenance": [],
      "collapsed_sections": []
    },
    "kernelspec": {
      "name": "python3",
      "display_name": "Python 3"
    },
    "language_info": {
      "name": "python"
    }
  },
  "cells": [
    {
      "cell_type": "code",
      "execution_count": 1,
      "metadata": {
        "id": "c5Qx9alcA7V4"
      },
      "outputs": [],
      "source": [
        "def GenerateArray(k):\n",
        "    bases = ['A', 'C', 'G', 'T']\n",
        "    array = bases\n",
        "    for n in range(k-1):\n",
        "        array = [i+j for i in array for j in bases]\n",
        "    return array"
      ]
    },
    {
      "cell_type": "code",
      "source": [
        "def PatternCount(text, pattern):\n",
        "    count = 0\n",
        "    for i in range(len(text)-len(pattern)+1):\n",
        "        if text[i:i+len(pattern)] == pattern:\n",
        "            count += 1\n",
        "    return count"
      ],
      "metadata": {
        "id": "apecPJdGA_gO"
      },
      "execution_count": 2,
      "outputs": []
    },
    {
      "cell_type": "code",
      "source": [
        "def ComputingFrequencyArray(text, k):\n",
        "    k_mers = GenerateArray(k)\n",
        "    for pattern in k_mers:\n",
        "        print(PatternCount(text, pattern), end=\" \")"
      ],
      "metadata": {
        "id": "QgC37kNtBBm2"
      },
      "execution_count": 3,
      "outputs": []
    },
    {
      "cell_type": "code",
      "source": [
        "text = input()\n",
        "k = int(input())\n",
        "ComputingFrequencyArray(text, k)"
      ],
      "metadata": {
        "colab": {
          "base_uri": "https://localhost:8080/"
        },
        "id": "0pSA7Wx3BEL1",
        "outputId": "4699fdef-d135-459b-c456-32eb8455e541"
      },
      "execution_count": 4,
      "outputs": [
        {
          "output_type": "stream",
          "name": "stdout",
          "text": [
            "ACGCGGCTCTGAAA\n",
            "2\n",
            "2 1 0 0 0 0 2 2 1 2 1 0 0 1 1 0 "
          ]
        }
      ]
    }
  ]
}