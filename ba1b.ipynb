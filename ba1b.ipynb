{
  "nbformat": 4,
  "nbformat_minor": 0,
  "metadata": {
    "colab": {
      "provenance": [],
      "collapsed_sections": []
    },
    "kernelspec": {
      "name": "python3",
      "display_name": "Python 3"
    },
    "language_info": {
      "name": "python"
    }
  },
  "cells": [
    {
      "cell_type": "code",
      "execution_count": 1,
      "metadata": {
        "id": "t7f1RKUcP7b1"
      },
      "outputs": [],
      "source": [
        "def FrequentWords(text, k):\n",
        "    word_count = {}\n",
        "    for i in range(len(text)-k+1):\n",
        "        if text[i:i+k] not in word_count:\n",
        "            word_count[text[i:i+k]] = 0\n",
        "        word_count[text[i:i+k]] += 1\n",
        "    frequent_count = max(word_count.values())\n",
        "    for k,v in word_count.items():\n",
        "        if v==frequent_count:\n",
        "            print(k, end=\" \")\n",
        "    print()"
      ]
    },
    {
      "cell_type": "code",
      "source": [
        "text = input()\n",
        "k = int(input())\n",
        "FrequentWords(text, k)"
      ],
      "metadata": {
        "colab": {
          "base_uri": "https://localhost:8080/"
        },
        "id": "Q4yWKFXAYNJM",
        "outputId": "6b35dc1d-68b4-47b0-b989-b7fcd41e229b"
      },
      "execution_count": 2,
      "outputs": [
        {
          "output_type": "stream",
          "name": "stdout",
          "text": [
            "ACGTTGCATGTCGCATGATGCATGAGAGCT\n",
            "4\n",
            "GCAT CATG \n"
          ]
        }
      ]
    },
    {
      "cell_type": "code",
      "source": [],
      "metadata": {
        "id": "fgHHH14PvA9E"
      },
      "execution_count": null,
      "outputs": []
    }
  ]
}