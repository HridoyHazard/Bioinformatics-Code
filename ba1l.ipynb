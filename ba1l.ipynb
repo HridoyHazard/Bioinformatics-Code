{
  "nbformat": 4,
  "nbformat_minor": 0,
  "metadata": {
    "colab": {
      "provenance": [],
      "collapsed_sections": []
    },
    "kernelspec": {
      "name": "python3",
      "display_name": "Python 3"
    },
    "language_info": {
      "name": "python"
    }
  },
  "cells": [
    {
      "cell_type": "code",
      "execution_count": 1,
      "metadata": {
        "id": "3_LJOxtXBdjW"
      },
      "outputs": [],
      "source": [
        "def PatternToNumber(pattern):\n",
        "    seq = {'A':0, 'C':1, 'G':2, 'T':3}\n",
        "    k = len(pattern)\n",
        "    num = 0\n",
        "    for i in range(k):\n",
        "        num += seq[pattern[i]] * pow(4, k-i-1)\n",
        "    return num"
      ]
    },
    {
      "cell_type": "code",
      "source": [
        "pattern = input()\n",
        "print(PatternToNumber(pattern))"
      ],
      "metadata": {
        "colab": {
          "base_uri": "https://localhost:8080/"
        },
        "id": "VxHQRisVBg-g",
        "outputId": "f08902be-8497-4974-a42b-805bb7bbc109"
      },
      "execution_count": 2,
      "outputs": [
        {
          "output_type": "stream",
          "name": "stdout",
          "text": [
            "AGT\n",
            "11\n"
          ]
        }
      ]
    }
  ]
}