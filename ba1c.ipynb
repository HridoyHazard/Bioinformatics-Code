{
  "nbformat": 4,
  "nbformat_minor": 0,
  "metadata": {
    "colab": {
      "provenance": []
    },
    "kernelspec": {
      "name": "python3",
      "display_name": "Python 3"
    },
    "language_info": {
      "name": "python"
    }
  },
  "cells": [
    {
      "cell_type": "code",
      "source": [
        "def reverseString(dna):\n",
        "    revDNA = dna[::-1]\n",
        "    replacement1 = revDNA.replace(\"A\", \"t\")\n",
        "    replacement2 = replacement1.replace(\"T\", \"a\")\n",
        "    replacement3 = replacement2.replace(\"G\", \"c\")\n",
        "    replacement4 = replacement3.replace(\"C\", \"g\")\n",
        "    return replacement4.upper()"
      ],
      "metadata": {
        "id": "VjmdKBBAv4L_"
      },
      "execution_count": 1,
      "outputs": []
    },
    {
      "cell_type": "code",
      "execution_count": 2,
      "metadata": {
        "colab": {
          "base_uri": "https://localhost:8080/"
        },
        "id": "SXNg8fqCv0VP",
        "outputId": "290f2342-e494-4dc5-edfc-c7420ca6c997"
      },
      "outputs": [
        {
          "output_type": "stream",
          "name": "stdout",
          "text": [
            "AAAACCCGGT\n",
            "ACCGGGTTTT\n"
          ]
        }
      ],
      "source": [
        "dna=input()\n",
        "reverse = reverseString(dna)\n",
        "print(reverse)"
      ]
    },
    {
      "cell_type": "code",
      "source": [],
      "metadata": {
        "id": "DI-BArQov66d"
      },
      "execution_count": null,
      "outputs": []
    }
  ]
}