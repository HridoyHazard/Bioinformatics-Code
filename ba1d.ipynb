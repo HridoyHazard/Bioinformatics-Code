{
  "nbformat": 4,
  "nbformat_minor": 0,
  "metadata": {
    "colab": {
      "provenance": []
    },
    "kernelspec": {
      "name": "python3",
      "display_name": "Python 3"
    },
    "language_info": {
      "name": "python"
    }
  },
  "cells": [
    {
      "cell_type": "code",
      "execution_count": 9,
      "metadata": {
        "id": "HSFwo9fgiRVC"
      },
      "outputs": [],
      "source": [
        "def patt(txt , k):\n",
        "  pos=[]\n",
        "  ss = \"\"\n",
        "  for i in range(len(k)-len(txt)+1):\n",
        "      if(k[i:i+len(txt)]==txt):\n",
        "        pos.append(i)\n",
        "  for x in pos:\n",
        "    if(x==0):\n",
        "      ss+=''+str(x)\n",
        "    else:\n",
        "      ss+=' '+str(x)\n",
        "  return ss\n",
        "  "
      ]
    },
    {
      "cell_type": "code",
      "source": [
        "txt = input()\n",
        "k = input()\n",
        "print(patt(txt,k))\n",
        "\n"
      ],
      "metadata": {
        "colab": {
          "base_uri": "https://localhost:8080/"
        },
        "id": "NHgazmEEiX64",
        "outputId": "0325f561-8e8c-41c7-cfa1-5def667b6609"
      },
      "execution_count": 10,
      "outputs": [
        {
          "output_type": "stream",
          "name": "stdout",
          "text": [
            "ATAT\n",
            "GATATATGCATATACTT\n",
            " 1 3 9\n"
          ]
        }
      ]
    },
    {
      "cell_type": "code",
      "source": [],
      "metadata": {
        "id": "flEmnIcQvY1k"
      },
      "execution_count": null,
      "outputs": []
    }
  ]
}