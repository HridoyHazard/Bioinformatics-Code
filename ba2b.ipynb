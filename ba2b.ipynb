{
  "nbformat": 4,
  "nbformat_minor": 0,
  "metadata": {
    "colab": {
      "provenance": []
    },
    "kernelspec": {
      "name": "python3",
      "display_name": "Python 3"
    },
    "language_info": {
      "name": "python"
    }
  },
  "cells": [
    {
      "cell_type": "code",
      "execution_count": null,
      "metadata": {
        "id": "uyMgqCkdwyFF"
      },
      "outputs": [],
      "source": [
        "def haming_dis(x,y):\n",
        "  ans=0\n",
        "  \n",
        "  for i in range(len(x)):\n",
        "    if x[i]!=y[i]:\n",
        "      ans+=1\n",
        "\n",
        "  return ans"
      ]
    },
    {
      "cell_type": "code",
      "source": [
        "def numTo_Pattern(x,y):\n",
        "  ans=[]\n",
        "  ans1=[]\n",
        "\n",
        "  while(x>0):\n",
        "    t=x\n",
        "    ans.append(int(t%4));\n",
        "    x=int(x/4)\n",
        "    \n",
        "  s=''\n",
        "  z=ans\n",
        "  for i in range(len(z)):\n",
        "    if z[i]==0:\n",
        "      s+='A'\n",
        "    if z[i]==1:\n",
        "      s+='C'\n",
        "    if z[i]==2:\n",
        "      s+='G'\n",
        "    if z[i]==3:\n",
        "      s+='T'\n",
        "\n",
        "  k=len(z)\n",
        "  while(k<y):\n",
        "    s+='A'\n",
        "    k+=1\n",
        "\n",
        "  s1=''\n",
        "  s1=s[::-1]\n",
        "     \n",
        "  return s1"
      ],
      "metadata": {
        "id": "Q5zi8qWlw3vh"
      },
      "execution_count": null,
      "outputs": []
    },
    {
      "cell_type": "code",
      "source": [
        "def kmer_freq(x,y):\n",
        "  ans=pow(4,x)\n",
        "  ans1=[]\n",
        "  ans4=[]\n",
        "  for i in range(ans):\n",
        "    ans1.append(numTo_Pattern(i,x))\n",
        "\n",
        "  for i in range(len(ans1)):\n",
        "    k1=0      \n",
        "    for s in y:\n",
        "      k=x\n",
        "      for j in range(len(s)-x+1):\n",
        "        if k> haming_dis(ans1[i],s[j:j+x]):\n",
        "          k=(haming_dis(ans1[i],s[j:j+x]))\n",
        "      k1+=k\n",
        "    ans4.append(k1)    \n",
        "  \n",
        "  k2=len(y)\n",
        "  for i in range(len(ans4)):\n",
        "    if k2>ans4[i]:\n",
        "      k2=ans4[i] \n",
        "\n",
        "  for i in range(len(ans4)):\n",
        "    if k2==ans4[i]:\n",
        "      print(ans1[i])\n",
        "      break"
      ],
      "metadata": {
        "id": "8nGzpOtLw-uu"
      },
      "execution_count": null,
      "outputs": []
    },
    {
      "cell_type": "code",
      "source": [
        "x=int(input())\n",
        "y=input().split( )\n",
        "\n",
        "kmer_freq(x,y)"
      ],
      "metadata": {
        "colab": {
          "base_uri": "https://localhost:8080/"
        },
        "id": "vAP6VaP3xCVu",
        "outputId": "87e00a1d-bb01-452a-f071-7584dace51af"
      },
      "execution_count": null,
      "outputs": [
        {
          "output_type": "stream",
          "name": "stdout",
          "text": [
            "3\n",
            "AAATTGACGCAT GACGACCACGTT CGTCAGCGCCTG GCTGAGCACCGG AGTACGGGACAG\n",
            "ACG\n"
          ]
        }
      ]
    }
  ]
}